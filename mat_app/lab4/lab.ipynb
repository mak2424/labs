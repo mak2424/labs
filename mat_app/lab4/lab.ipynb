{
  "nbformat": 4,
  "nbformat_minor": 0,
  "metadata": {
    "colab": {
      "name": "lab4.ipynb",
      "version": "0.3.2",
      "provenance": [],
      "collapsed_sections": [],
      "include_colab_link": true
    },
    "kernelspec": {
      "name": "python3",
      "display_name": "Python 3"
    }
  },
  "cells": [
    {
      "cell_type": "markdown",
      "metadata": {
        "id": "view-in-github",
        "colab_type": "text"
      },
      "source": [
        "<a href=\"https://colab.research.google.com/github/DReeborn/labs/blob/master/mat_app/lab4/lab.ipynb\" target=\"_parent\"><img src=\"https://colab.research.google.com/assets/colab-badge.svg\" alt=\"Open In Colab\"/></a>"
      ]
    },
    {
      "cell_type": "code",
      "metadata": {
        "id": "yY-NZ8TmXvGG",
        "colab_type": "code",
        "outputId": "19ed37ef-9326-4105-9f5d-f8a0cceccb2b",
        "colab": {
          "base_uri": "https://localhost:8080/",
          "height": 35
        }
      },
      "source": [
        "!pip install projectq"
      ],
      "execution_count": 0,
      "outputs": [
        {
          "output_type": "stream",
          "text": [
            "Measured 0\n"
          ],
          "name": "stdout"
        }
      ]
    },
    {
      "cell_type": "markdown",
      "metadata": {
        "id": "dYXPmYOZdPJG",
        "colab_type": "text"
      },
      "source": [
        "### **Задание №4**"
      ]
    },
    {
      "cell_type": "code",
      "metadata": {
        "id": "rTMEpi5NdYN8",
        "colab_type": "code",
        "outputId": "84aa45d0-63dc-4505-e4c0-e0d6e21f7054",
        "colab": {
          "base_uri": "https://localhost:8080/",
          "height": 35
        }
      },
      "source": [
        "import projectq\n",
        "from projectq import MainEngine  # import the main compiler engine\n",
        "from projectq.ops import H, Measure  # import the operations we want to perform (Hadamard and measurement)\n",
        "\n",
        "val = []\n",
        "for i in range(0, 100):\n",
        "  eng = MainEngine()  # create a default compiler (the back-end is a simulator)\n",
        "  qubit = eng.allocate_qubit()  # allocate 1 qubit\n",
        "\n",
        "  H | qubit  # apply a Hadamard gate\n",
        "  Measure | qubit  # measure the qubit\n",
        "\n",
        "\n",
        "  eng.flush()  # flush all gates (and execute measurements)\n",
        "  val.append(int(qubit))\n",
        "  \n",
        "print(f\"0:{val.count(0)} 1:{val.count(1)}\")  # output measurement result"
      ],
      "execution_count": 0,
      "outputs": [
        {
          "output_type": "stream",
          "text": [
            "0:44 1:56\n"
          ],
          "name": "stdout"
        }
      ]
    },
    {
      "cell_type": "markdown",
      "metadata": {
        "id": "qzQIIQdHfcRV",
        "colab_type": "text"
      },
      "source": [
        "### **Задание №5**\n"
      ]
    },
    {
      "cell_type": "markdown",
      "metadata": {
        "id": "ef0GREkigB11",
        "colab_type": "text"
      },
      "source": [
        "Control-Z:"
      ]
    },
    {
      "cell_type": "code",
      "metadata": {
        "id": "dgBxgFhNfWTP",
        "colab_type": "code",
        "colab": {
          "base_uri": "https://localhost:8080/",
          "height": 35
        },
        "outputId": "110794b0-445f-48a8-b2a7-9974931e5860"
      },
      "source": [
        "from projectq.ops import H, CZ, Z, MatrixGate, Measure, X\n",
        "from projectq import MainEngine\n",
        "\n",
        "eng = MainEngine()\n",
        "\n",
        "q1 = eng.allocate_qubit() \n",
        "q2 = eng.allocate_qubit()\n",
        "\n",
        "X | q2\n",
        "H | q2\n",
        "\n",
        "CZ | (q1,q2)\n",
        "\n",
        "H | q2\n",
        "\n",
        "Measure | q1\n",
        "Measure | q2\n",
        "\n",
        "eng.flush()\n",
        "print(\"Measured Control-Z: q1 = {}, q2 = {}\".format(int(q1), int(q2)))"
      ],
      "execution_count": 3,
      "outputs": [
        {
          "output_type": "stream",
          "text": [
            "Measured Control-Z: q1 = 0, q2 = 1\n"
          ],
          "name": "stdout"
        }
      ]
    },
    {
      "cell_type": "markdown",
      "metadata": {
        "id": "2bA2c_1lgFVO",
        "colab_type": "text"
      },
      "source": [
        "Z2Z3:"
      ]
    },
    {
      "cell_type": "code",
      "metadata": {
        "id": "ohCNy8Qyf7ZX",
        "colab_type": "code",
        "colab": {
          "base_uri": "https://localhost:8080/",
          "height": 35
        },
        "outputId": "c309946a-a5f7-4ae3-b3a2-fc82412fc411"
      },
      "source": [
        "from projectq.ops import H, CZ, Z, MatrixGate, Measure, X\n",
        "from projectq import MainEngine\n",
        "import numpy as np\n",
        "from numpy import kron\n",
        "\n",
        "eng = MainEngine()\n",
        "\n",
        "q1 = eng.allocate_qubit()\n",
        "q2 = eng.allocate_qubit()\n",
        "H | q1\n",
        "H | q2\n",
        "\n",
        "gate = MatrixGate(np.kron(Z.matrix, Z.matrix))\n",
        "\n",
        "gate | (q2,q1)\n",
        "H | q1\n",
        "H | q2\n",
        "Measure | q1\n",
        "Measure | q2\n",
        "\n",
        "eng.flush()\n",
        "print(\"Measured Z1Z2: q1 = {}, q2 = {}\".format(int(q1), int(q2)))"
      ],
      "execution_count": 6,
      "outputs": [
        {
          "output_type": "stream",
          "text": [
            "Measured Z1Z2: q1 = 1, q2 = 1\n"
          ],
          "name": "stdout"
        }
      ]
    },
    {
      "cell_type": "markdown",
      "metadata": {
        "id": "ZGcBHSsMgTGI",
        "colab_type": "text"
      },
      "source": [
        "Z2Z3:"
      ]
    },
    {
      "cell_type": "code",
      "metadata": {
        "id": "lztptrYzgU8o",
        "colab_type": "code",
        "colab": {
          "base_uri": "https://localhost:8080/",
          "height": 35
        },
        "outputId": "8c0c3b27-1dd9-4c62-ca2e-b4491afc2c73"
      },
      "source": [
        "from projectq.ops import H, CZ, Z, MatrixGate, Measure, X\n",
        "from projectq import MainEngine\n",
        "import numpy as np\n",
        "from numpy import kron\n",
        "\n",
        "eng = MainEngine()\n",
        "\n",
        "q1 = eng.allocate_qubit()\n",
        "q2 = eng.allocate_qubit()\n",
        "q3 = eng.allocate_qubit()\n",
        "H | q1\n",
        "H | q2\n",
        "H | q3\n",
        "\n",
        "gate | (q3,q2)\n",
        "H | q1\n",
        "H | q2\n",
        "H | q3\n",
        "Measure | q1\n",
        "Measure | q2\n",
        "Measure | q3\n",
        "\n",
        "eng.flush()\n",
        "print(\"Measured Z2Z3: q1 = {}, q2 = {}, q3 = {}\".format(int(q1), int(q2), int(q3)))"
      ],
      "execution_count": 7,
      "outputs": [
        {
          "output_type": "stream",
          "text": [
            "Measured Z2Z3: q1 = 0, q2 = 1, q3 = 1\n"
          ],
          "name": "stdout"
        }
      ]
    },
    {
      "cell_type": "markdown",
      "metadata": {
        "id": "9qKUx9ZVgZRN",
        "colab_type": "text"
      },
      "source": [
        "Z3Z1:"
      ]
    },
    {
      "cell_type": "code",
      "metadata": {
        "id": "uvBLeOuWgbff",
        "colab_type": "code",
        "colab": {
          "base_uri": "https://localhost:8080/",
          "height": 35
        },
        "outputId": "34392764-4931-40e4-9b00-3e2474019f5f"
      },
      "source": [
        "from projectq.ops import H, CZ, Z, MatrixGate, Measure, X\n",
        "from projectq import MainEngine\n",
        "import numpy as np\n",
        "from numpy import kron\n",
        "\n",
        "eng = MainEngine()\n",
        "\n",
        "q1 = eng.allocate_qubit()\n",
        "q2 = eng.allocate_qubit()\n",
        "q3 = eng.allocate_qubit()\n",
        "H | q1\n",
        "H | q2\n",
        "H | q3\n",
        "\n",
        "gate | (q1,q3)\n",
        "H | q1\n",
        "H | q2\n",
        "H | q3\n",
        "Measure | q1\n",
        "Measure | q2\n",
        "Measure | q3\n",
        "\n",
        "eng.flush()\n",
        "print(\"Measured Z3Z1: q1 = {}, q2 = {}, q3 = {}\".format(int(q1), int(q2), int(q3)))"
      ],
      "execution_count": 8,
      "outputs": [
        {
          "output_type": "stream",
          "text": [
            "Measured Z3Z1: q1 = 1, q2 = 0, q3 = 1\n"
          ],
          "name": "stdout"
        }
      ]
    }
  ]
}