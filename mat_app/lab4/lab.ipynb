{
  "nbformat": 4,
  "nbformat_minor": 0,
  "metadata": {
    "colab": {
      "name": "Untitled0.ipynb",
      "version": "0.3.2",
      "provenance": [],
      "include_colab_link": true
    },
    "kernelspec": {
      "name": "python3",
      "display_name": "Python 3"
    }
  },
  "cells": [
    {
      "cell_type": "markdown",
      "metadata": {
        "id": "view-in-github",
        "colab_type": "text"
      },
      "source": [
        "<a href=\"https://colab.research.google.com/github/DReeborn/labs/blob/master/mat_app/lab4/lab.ipynb\" target=\"_parent\"><img src=\"https://colab.research.google.com/assets/colab-badge.svg\" alt=\"Open In Colab\"/></a>"
      ]
    },
    {
      "cell_type": "code",
      "metadata": {
        "id": "yY-NZ8TmXvGG",
        "colab_type": "code",
        "outputId": "19ed37ef-9326-4105-9f5d-f8a0cceccb2b",
        "colab": {
          "base_uri": "https://localhost:8080/",
          "height": 35
        }
      },
      "source": [
        "import projectq\n",
        "from projectq import MainEngine  # import the main compiler engine\n",
        "from projectq.ops import H, Measure  # import the operations we want to perform (Hadamard and measurement)\n",
        "\n",
        "eng = MainEngine()  # create a default compiler (the back-end is a simulator)\n",
        "qubit = eng.allocate_qubit()  # allocate 1 qubit\n",
        "\n",
        "H | qubit  # apply a Hadamard gate\n",
        "Measure | qubit  # measure the qubit\n",
        "\n",
        "eng.flush()  # flush all gates (and execute measurements)\n",
        "print(\"Measured {}\".format(int(qubit)))  # output measurement result"
      ],
      "execution_count": 5,
      "outputs": [
        {
          "output_type": "stream",
          "text": [
            "Measured 0\n"
          ],
          "name": "stdout"
        }
      ]
    }
  ]
}